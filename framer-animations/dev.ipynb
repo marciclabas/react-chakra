{
 "cells": [
  {
   "cell_type": "code",
   "execution_count": 1,
   "metadata": {},
   "outputs": [
    {
     "data": {
      "text/plain": [
       "[\n",
       "  \u001b[32m\"red\"\u001b[39m, \u001b[32m\"blue\"\u001b[39m,\n",
       "  \u001b[32m\"red\"\u001b[39m, \u001b[32m\"blue\"\u001b[39m,\n",
       "  \u001b[32m\"red\"\u001b[39m, \u001b[32m\"blue\"\u001b[39m,\n",
       "  \u001b[32m\"red\"\u001b[39m, \u001b[32m\"blue\"\u001b[39m,\n",
       "  \u001b[32m\"red\"\u001b[39m, \u001b[32m\"blue\"\u001b[39m\n",
       "]"
      ]
     },
     "execution_count": 1,
     "metadata": {},
     "output_type": "execute_result"
    }
   ],
   "source": [
    "const range = (n: number) => new Array(n).fill(0).map((_, i) => i)\n",
    "\n",
    "range(10).map(i => (i % 2 === 0) ? 'red' : 'blue')"
   ]
  }
 ],
 "metadata": {
  "kernelspec": {
   "display_name": "Deno",
   "language": "typescript",
   "name": "deno"
  },
  "language_info": {
   "file_extension": ".ts",
   "mimetype": "text/x.typescript",
   "name": "typescript",
   "nb_converter": "script",
   "pygments_lexer": "typescript",
   "version": "5.2.2"
  }
 },
 "nbformat": 4,
 "nbformat_minor": 2
}
